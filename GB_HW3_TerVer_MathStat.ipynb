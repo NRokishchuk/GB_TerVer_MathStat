{
 "cells": [
  {
   "cell_type": "markdown",
   "id": "5bd87ad4",
   "metadata": {},
   "source": [
    "__Задача 1__\n",
    "\n",
    "Даны значения зарплат из выборки выпускников: \n",
    "\n",
    "`100, 80, 75, 77, 89, 33, 45, 25, 65, 17, 30, 230, 24, 57, 55, 70, 75, 65, 84, 90, 150`\n",
    "\n",
    "Используя только встроенные питоновские функции и структуры данных (т.е. без библиотек `numpy`, `pandas` и др.), посчитайте (несмещённое) среднее квадратичное отклонение для данной выборки."
   ]
  },
  {
   "cell_type": "code",
   "execution_count": 16,
   "id": "d27be119",
   "metadata": {},
   "outputs": [],
   "source": [
    "sample = [100, 80, 75, 77, 89, 33, 45, 25, 65, 17, 30, 230, 24, 57, 55, 70, 75, 65, 84, 90, 150]"
   ]
  },
  {
   "cell_type": "code",
   "execution_count": 17,
   "id": "17dd9fee",
   "metadata": {},
   "outputs": [
    {
     "data": {
      "text/plain": [
       "73.14285714285714"
      ]
     },
     "execution_count": 17,
     "metadata": {},
     "output_type": "execute_result"
    }
   ],
   "source": [
    "# Мат ожидание\n",
    "M = sum(sample)/len(sample)\n",
    "M"
   ]
  },
  {
   "cell_type": "code",
   "execution_count": 18,
   "id": "cf03b3ad",
   "metadata": {},
   "outputs": [
    {
     "data": {
      "text/plain": [
       "46.20686994302874"
      ]
     },
     "execution_count": 18,
     "metadata": {},
     "output_type": "execute_result"
    }
   ],
   "source": [
    "# Среднеквадратичное отклонение\n",
    "sigma = pow(sum(map(lambda x : pow(x - M, 2), sample))/len(sample), 0.5)\n",
    "sigma"
   ]
  },
  {
   "cell_type": "markdown",
   "id": "b84ff427",
   "metadata": {},
   "source": [
    "__Задача 2__\n",
    "\n",
    "Найдите число выбросов в выборке из задачи 1. Для определения выбросов используйте методику как при построении \"усов\" в `boxplot`, однако, как и в задаче 1, пользоваться можно только встроенными функциями и структурами данных."
   ]
  },
  {
   "cell_type": "code",
   "execution_count": 28,
   "id": "857b587f",
   "metadata": {},
   "outputs": [],
   "source": [
    "import numpy as np\n",
    "import pandas as pd"
   ]
  },
  {
   "cell_type": "code",
   "execution_count": 31,
   "id": "2ecee446",
   "metadata": {},
   "outputs": [],
   "source": [
    "sampleArr = np.array([100, 80, 75, 77, 89, 33, 45, 25, 65, 17, 30, 230, 24, 57, 55, 70, 75, 65, 84, 90, 150])\n",
    "sampleDF = pd.DataFrame({'sample': sampleArr})"
   ]
  },
  {
   "cell_type": "code",
   "execution_count": 32,
   "id": "a2403afb",
   "metadata": {},
   "outputs": [],
   "source": [
    "q1=np.quantile(sampleArr, 0.25)\n",
    "q3=np.quantile(sampleArr, 0.75)\n",
    "iqr = q3 - q1"
   ]
  },
  {
   "cell_type": "code",
   "execution_count": 33,
   "id": "14b1ac63",
   "metadata": {},
   "outputs": [
    {
     "data": {
      "text/plain": [
       "array([230, 150])"
      ]
     },
     "execution_count": 33,
     "metadata": {},
     "output_type": "execute_result"
    }
   ],
   "source": [
    "np.append(sampleArr[sampleArr < (q1 - 1.5*iqr)], sampleArr[sampleArr > (q3 + 1.5*iqr)])"
   ]
  },
  {
   "cell_type": "code",
   "execution_count": 35,
   "id": "03bae3d9",
   "metadata": {},
   "outputs": [],
   "source": [
    "q1, q3 = sampleDF['sample'].quantile([0.25, 0.75])\n",
    "iqr = q3 - q1\n",
    "\n",
    "bx_rng = (q1 - 1.5 * iqr, q3 + 1.5 * iqr)"
   ]
  },
  {
   "cell_type": "code",
   "execution_count": 36,
   "id": "520584fc",
   "metadata": {},
   "outputs": [
    {
     "data": {
      "text/html": [
       "<div>\n",
       "<style scoped>\n",
       "    .dataframe tbody tr th:only-of-type {\n",
       "        vertical-align: middle;\n",
       "    }\n",
       "\n",
       "    .dataframe tbody tr th {\n",
       "        vertical-align: top;\n",
       "    }\n",
       "\n",
       "    .dataframe thead th {\n",
       "        text-align: right;\n",
       "    }\n",
       "</style>\n",
       "<table border=\"1\" class=\"dataframe\">\n",
       "  <thead>\n",
       "    <tr style=\"text-align: right;\">\n",
       "      <th></th>\n",
       "      <th>sample</th>\n",
       "    </tr>\n",
       "  </thead>\n",
       "  <tbody>\n",
       "    <tr>\n",
       "      <th>11</th>\n",
       "      <td>230</td>\n",
       "    </tr>\n",
       "    <tr>\n",
       "      <th>20</th>\n",
       "      <td>150</td>\n",
       "    </tr>\n",
       "  </tbody>\n",
       "</table>\n",
       "</div>"
      ],
      "text/plain": [
       "    sample\n",
       "11     230\n",
       "20     150"
      ]
     },
     "execution_count": 36,
     "metadata": {},
     "output_type": "execute_result"
    }
   ],
   "source": [
    "sampleDF.loc[(sampleDF['sample'] < bx_rng[0]) | (sampleDF['sample'] > bx_rng[1])]"
   ]
  },
  {
   "cell_type": "markdown",
   "id": "a2260d1e",
   "metadata": {},
   "source": [
    "__Задача 3__\n",
    "\n",
    "В университет на факультет A поступило 100 человек, на факультет B - 90 человек и на факультет C - 45 человек. Вероятность того, что студент с факультета A сдаст первую сессию, равна 0.6. Для студента с факультета B эта вероятность равна 0.7, а для студента с факультета C - 0.8. Случайным образом выбирается студент, сдавший первую сессию. Какое событие наиболее вероятно:\n",
    "1. студент учится на факультете A,\n",
    "2. студент учится на факультете B,\n",
    "3. студент учится на факультете C?\n",
    "\n",
    "_Замечание_: да, эта задача не на тему статистики, но тема важная, и её стоит иногда освежать в памяти."
   ]
  },
  {
   "cell_type": "code",
   "execution_count": 38,
   "id": "56447dba",
   "metadata": {},
   "outputs": [],
   "source": [
    "nA = 100\n",
    "nB = 90\n",
    "nC = 45\n",
    "nSum = nA + nB + nC\n",
    "\n",
    "p_A = nA/nSum\n",
    "p_B = nB/nSum\n",
    "p_C = nC/nSum\n",
    "\n",
    "p_YA = 0.6\n",
    "p_YB = 0.7\n",
    "p_YC = 0.8"
   ]
  },
  {
   "cell_type": "code",
   "execution_count": 40,
   "id": "ea2f4c65",
   "metadata": {},
   "outputs": [],
   "source": [
    "p_Y = p_YA * p_A + p_YB * p_B + p_YC * p_C"
   ]
  },
  {
   "cell_type": "code",
   "execution_count": 41,
   "id": "c2a1b03a",
   "metadata": {},
   "outputs": [],
   "source": [
    "p_AY = (p_YA * p_A)/p_Y\n",
    "p_BY = (p_YB * p_B)/p_Y\n",
    "p_CY = (p_YC * p_C)/p_Y"
   ]
  },
  {
   "cell_type": "code",
   "execution_count": 42,
   "id": "0bcece70",
   "metadata": {},
   "outputs": [
    {
     "name": "stdout",
     "output_type": "stream",
     "text": [
      "0.3773584905660377 0.39622641509433965 0.22641509433962265\n"
     ]
    }
   ],
   "source": [
    "print(p_AY, p_BY, p_CY)"
   ]
  },
  {
   "cell_type": "markdown",
   "id": "cf2f39af",
   "metadata": {},
   "source": [
    "С наибольшей вероятность, студент сдавший экзамен окажется с факультета B."
   ]
  }
 ],
 "metadata": {
  "kernelspec": {
   "display_name": "Python 3",
   "language": "python",
   "name": "python3"
  },
  "language_info": {
   "codemirror_mode": {
    "name": "ipython",
    "version": 3
   },
   "file_extension": ".py",
   "mimetype": "text/x-python",
   "name": "python",
   "nbconvert_exporter": "python",
   "pygments_lexer": "ipython3",
   "version": "3.8.8"
  }
 },
 "nbformat": 4,
 "nbformat_minor": 5
}
