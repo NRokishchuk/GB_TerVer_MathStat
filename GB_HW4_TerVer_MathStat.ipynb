{
 "cells": [
  {
   "cell_type": "markdown",
   "id": "24211500",
   "metadata": {},
   "source": [
    "__1.__ Случайная непрерывная величина A имеет равномерное распределение на промежутке (200, 800].\\\n",
    "Найдите ее среднее значение и дисперсию."
   ]
  },
  {
   "cell_type": "markdown",
   "id": "d66a530a",
   "metadata": {},
   "source": [
    "Случайная непрерывная величина A имеет равномерное распределение на промежутке (200, 800]. Найдите ее среднее значение и дисперсию.\n",
    "\n",
    "$M(X) = \\frac{a + b}{2} = \\frac{200 + 800}{2} = 500$ - среднее значение\n",
    "\n",
    "$D(X) = \\frac{(b - a)^2}{12} = \\frac{(800 - 200)^2}{12} = 30000$ - дисперсия\n"
   ]
  },
  {
   "cell_type": "code",
   "execution_count": 5,
   "id": "843048de",
   "metadata": {},
   "outputs": [],
   "source": [
    "import pandas as pd\n",
    "import numpy as np\n",
    "import seaborn as sns\n",
    "from matplotlib import pyplot as plt\n",
    "from scipy import stats"
   ]
  },
  {
   "cell_type": "code",
   "execution_count": 6,
   "id": "a011135c",
   "metadata": {},
   "outputs": [
    {
     "name": "stdout",
     "output_type": "stream",
     "text": [
      "Среднее значение: 500.0\n",
      "Дисперсия: 30000.0\n"
     ]
    }
   ],
   "source": [
    "print(f'Среднее значение: {(200+800)/2}')\n",
    "print(f'Дисперсия: {(800-200)**2/12}')"
   ]
  },
  {
   "cell_type": "markdown",
   "id": "02ee1f9f",
   "metadata": {},
   "source": [
    "__2.__ О случайной непрерывной равномерно распределенной величине B известно, что ее дисперсия равна 0.2.\n",
    "Можно ли найти правую границу величины B и ее среднее значение зная, что левая граница равна 0.5?\\\n",
    "Если да, найдите ее."
   ]
  },
  {
   "cell_type": "markdown",
   "id": "1ed3e3c0",
   "metadata": {},
   "source": [
    "$D(X) = \\frac{(b - a)^2}{12}$\n",
    "\n",
    "$0.2 = \\frac{(b - 0.5)^2}{12}$\n",
    "\n",
    "$2.4 = b^2 - b + 0.25$\n",
    "\n",
    "$b^2 - b - 2.15 = 0$ - это квадратное уравнение вида $ax^2 + bx + c = 0$, где $a=1, b=-1, с=- 2,15$\\\n",
    "которое можно решить с помощью дискриминанта, где\\\n",
    "$D = b^2 - 4ac = 4$\n",
    "\n",
    "Корни квадратного уравнения:\n",
    "\n",
    "$b_1 =  2.049$\n",
    "\n",
    "$b_2 = −1.049$\n",
    "\n",
    "$-1.049 < 0.5 \\quad \\text{не подходит по условию}$\n",
    "Значит правая граница b = 2.049\n",
    "\n",
    "$M(X) = \\frac{a + b}{2} = \\frac{0.5 + 2.049}{2} = 1.275$"
   ]
  },
  {
   "cell_type": "code",
   "execution_count": 12,
   "id": "edd70d0b",
   "metadata": {},
   "outputs": [
    {
     "name": "stdout",
     "output_type": "stream",
     "text": [
      "Правая граница: 2.049193338482967\n",
      "Среднее 1.2745966692414834\n"
     ]
    }
   ],
   "source": [
    "a = 0.5\n",
    "Dx = 0.2\n",
    "b = (12*Dx)**0.5 + a\n",
    "\n",
    "Mx = (a+b)/2\n",
    "\n",
    "print('Правая граница:', b)\n",
    "print('Среднее', Mx)"
   ]
  },
  {
   "cell_type": "markdown",
   "id": "7b08e3d3",
   "metadata": {},
   "source": [
    "__3.__ Непрерывная случайная величина X распределена нормально и задана плотностью распределения\n",
    "f(x) = (1 / (4 sqrt(2pi))) * (exp(-(x+2)**2) / 32).\n",
    "Найдите:\n",
    "а). M(X)\n",
    "б). D(X)\n",
    "в). std(X) (среднее квадратичное отклонение)\n"
   ]
  },
  {
   "cell_type": "markdown",
   "id": "7461e6f8",
   "metadata": {},
   "source": [
    "$f(x) = \\frac{1}{\\sigma \\cdot \\sqrt{2 \\cdot \\mu}} \\cdot e^{-\\frac{(x - \\mu)^2}{2 \\sigma^2}}$\n",
    "\n",
    "а) $M(X) = -2$\n",
    "\n",
    "б) $D(X) =  16$\n",
    "\n",
    "в) $std(X) = \\sigma = 4$"
   ]
  },
  {
   "cell_type": "markdown",
   "id": "4fb16235",
   "metadata": {},
   "source": [
    "__4.__ Рост взрослого населения города X имеет нормальное распределение.\n",
    "Причем, средний рост равен 174 см, а среднее квадратичное отклонение равно 8 см.\n",
    "Какова вероятность того, что случайным образом выбранный взрослый человек имеет рост:\\\n",
    "а) больше 182 см\\\n",
    "б) больше 190 см\\\n",
    "в) от 166 см до 190 см\\\n",
    "г) от 166 см до 182 см\\\n",
    "д) от 158 см до 190 см\\\n",
    "е) не выше 150 см или не ниже 190 см\\\n",
    "ё) не выше 150 см или не ниже 198 см\\\n",
    "ж) ниже 166 см.\n"
   ]
  },
  {
   "cell_type": "markdown",
   "id": "814b0461",
   "metadata": {},
   "source": [
    "$P(\\alpha < X < \\beta) = \\Phi \\left(\\frac{\\beta - a}{\\sigma}\\right) - \\Phi \\left(\\frac{\\alpha - a}{\\sigma} \\right)$\n",
    "\n",
    "a) $P(X > 182) = \\Phi \\left(\\frac{+\\infty - 174}{8}\\right) - \\Phi \\left(\\frac{182 - 174}{8} \\right) = 0.5000 - 0.3413 = 0.1587$\n",
    "\n",
    "б) $P(X > 190) = \\Phi \\left(\\frac{+\\infty - 174}{8}\\right) - \\Phi \\left(\\frac{190 - 174}{8} \\right) = 0.5000 - 0.4772 = 0.0228$\n",
    "\n",
    "в) $P(166 < X < 190) = \\Phi \\left(\\frac{190 - 174}{8}\\right) - \\Phi \\left(\\frac{166 - 174}{8} \\right) = 0.4772 - (-0.3413) = 0.8185$\n",
    "\n",
    "г) $P(166 < X < 182) = \\Phi \\left(\\frac{182 - 174}{8}\\right) - \\Phi \\left(\\frac{166 - 174}{8} \\right) = 0.3413 - (-0.3413) = 0.6826$\n",
    "\n",
    "д) $P(158 < X < 190) = \\Phi \\left(\\frac{190 - 174}{8}\\right) - \\Phi \\left(\\frac{158 - 174}{8} \\right) = 0.4772 - (-0.4772) = 0.9544$\n",
    "\n",
    "е) $p(x < 150, x > 190) = \\Phi \\left(\\frac{150 - 174}{8}\\right) - \\Phi \\left(\\frac{-\\infty - 174}{8} \\right) + \\Phi \\left(\\frac{+\\infty - 174}{8}\\right) - \\Phi \\left(\\frac{190 - 174}{8} \\right) = (-0.4987 - (-0.5000)) + (0.5000 - 0.4772) = 0.0241$\n",
    "\n",
    "ё) $p(x < 150, x > 198) = \\Phi \\left(\\frac{150 - 174}{8}\\right) - \\Phi \\left(\\frac{-\\infty - 174}{8} \\right) + \\Phi \\left(\\frac{+\\infty - 174}{8}\\right) - \\Phi \\left(\\frac{198 - 174}{8} \\right) = (-0.4987 - (-0.5000)) + (0.5000 - 0.4987) = 0.0026$\n",
    "\n",
    "ж) $p(x < 166) = \\Phi \\left(\\frac{166 - 174}{8}\\right) - \\Phi \\left(\\frac{-\\infty - 174}{8} \\right) = -0.3413 - (-0.5000) = 0.1587$"
   ]
  },
  {
   "cell_type": "markdown",
   "id": "83017108",
   "metadata": {},
   "source": [
    "__5.__ На сколько сигм (средних квадратичных отклонений) отклоняется рост человека, равный 190 см, от\n",
    "математического ожидания роста в популяции, в которой M(X) = 178 см и D(X) = 25 кв.см?\n"
   ]
  },
  {
   "cell_type": "markdown",
   "id": "b5ad4af5",
   "metadata": {},
   "source": [
    "$M(X) = 178$\n",
    "\n",
    "$D(X) = 25$\n",
    "\n",
    "$\\sigma(Х) = 5$\n",
    "\n",
    "$\\frac{190 - 178}{5} = 2.4$"
   ]
  }
 ],
 "metadata": {
  "kernelspec": {
   "display_name": "Python 3",
   "language": "python",
   "name": "python3"
  },
  "language_info": {
   "codemirror_mode": {
    "name": "ipython",
    "version": 3
   },
   "file_extension": ".py",
   "mimetype": "text/x-python",
   "name": "python",
   "nbconvert_exporter": "python",
   "pygments_lexer": "ipython3",
   "version": "3.8.8"
  }
 },
 "nbformat": 4,
 "nbformat_minor": 5
}
