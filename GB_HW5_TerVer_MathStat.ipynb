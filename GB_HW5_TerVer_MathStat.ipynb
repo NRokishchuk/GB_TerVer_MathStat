{
 "cells": [
  {
   "cell_type": "markdown",
   "id": "117a697e",
   "metadata": {},
   "source": [
    "__Задача 1__\n",
    "\n",
    "Известно, что генеральная совокупность распределена нормально с известным средним квадратическим отклонением 16. Найти ширину доверительного интервала для оценки математического ожидания $\\mu$ с надёжностью 0.95, если выборочное среднее равно 80, а объём выборки равен 256."
   ]
  },
  {
   "cell_type": "code",
   "execution_count": 37,
   "id": "2a3065a2",
   "metadata": {},
   "outputs": [],
   "source": [
    "import pandas as pd\n",
    "import numpy as np\n",
    "from math import sqrt\n",
    "from scipy import stats\n",
    "from scipy.stats import norm, t"
   ]
  },
  {
   "cell_type": "markdown",
   "id": "fa45b487",
   "metadata": {},
   "source": [
    "$\\delta = \\frac{t_\\lambda * \\sigma}{\\sqrt{n}}$"
   ]
  },
  {
   "cell_type": "code",
   "execution_count": 38,
   "id": "b34d9651",
   "metadata": {},
   "outputs": [
    {
     "name": "stdout",
     "output_type": "stream",
     "text": [
      "Доверительный интервал: [78.04, 81.96]\n",
      "Ширина доверительного интервала: 3.9199999999999875\n"
     ]
    }
   ],
   "source": [
    "sigma, lambda_, M, n = 16, 0.95, 80, 256\n",
    "t_lambda_ = norm.ppf(lambda_/2 + 0.5)\n",
    "delta = t_lambda_ * sigma / sqrt(n)\n",
    "print(f'Доверительный интервал: [{round(M-delta, 4)}, {round(M+delta, 4)}]')\n",
    "print(f'Ширина доверительного интервала:',(round(M+delta, 4) - round(M-delta, 4)))"
   ]
  },
  {
   "cell_type": "markdown",
   "id": "c3ce9b83",
   "metadata": {},
   "source": [
    "__Задача 2__\n",
    "\n",
    "Продавец утверждает, что средний вес пачки печенья составляет 200 г. Из партии извлечена выборка из 10 пачек. Вес каждой пачки составляет:\n",
    "```202, 203, 199, 197, 195, 201, 200, 204, 194, 190```\\\n",
    "Известно, что их веса распределены нормально. Верно ли утверждение продавца, если учитывать, что уровень значимости равен 1%? Найдите P-значение для данного теста и укажите его в качестве ответа.\n"
   ]
  },
  {
   "cell_type": "markdown",
   "id": "d187229f",
   "metadata": {},
   "source": [
    "__Решение:__\\\n",
    "Нулевая гипотеза - продавец прав, $\\mu=\\mu_{0}$\\\n",
    "Альтернативная гипотеза - продавец не прав, $\\mu \\neq \\mu_{0}$"
   ]
  },
  {
   "cell_type": "code",
   "execution_count": 39,
   "id": "814a29de",
   "metadata": {},
   "outputs": [
    {
     "name": "stdout",
     "output_type": "stream",
     "text": [
      "Гипотеза H_0 верна - средний вес пачки составляет 200г\n",
      "P-значение:  0.31456660352472854\n"
     ]
    }
   ],
   "source": [
    "data = np.array([202, 203, 199, 197, 195, 201, 200, 204, 194, 190])\n",
    "mu0=200; n=10; t = 3.25\n",
    "mu = data.mean()\n",
    "s = np.sqrt(data.var(ddof=1))\n",
    "v = ((mu - mu0)*np.sqrt(n))/s\n",
    "print('Гипотеза H_0 верна - средний вес пачки составляет 200г' if -t < v < t else 'Гипотеза H_0 не верна.')\n",
    "p = 2 * min(stats.t.cdf(v, df=data.shape[0] - 1), 1 - stats.t.cdf(v, df=data.shape[0] - 1))\n",
    "print(f'P-значение: ',p)"
   ]
  },
  {
   "cell_type": "code",
   "execution_count": 40,
   "id": "05d41eaa",
   "metadata": {},
   "outputs": [
    {
     "data": {
      "text/plain": [
       "Ttest_1sampResult(statistic=-1.0651074037450896, pvalue=0.31456660352472854)"
      ]
     },
     "execution_count": 40,
     "metadata": {},
     "output_type": "execute_result"
    }
   ],
   "source": [
    "# Проверка\n",
    "stats.ttest_1samp(sample, popmean=200)"
   ]
  },
  {
   "cell_type": "markdown",
   "id": "d642df77",
   "metadata": {},
   "source": [
    "__Задача 3__\n",
    "\n",
    "Дана выборка диаметров подшипников из примера 1 с занятия 5:\n",
    "```\n",
    "samples = [0.6603, 0.9466, 0.5968, 1.3792, 1.5481, 0.7515, 1.0681, 1.1134,\n",
    "           1.2088, 1.701 , 1.0282, 1.3579, 1.0191, 1.1784, 1.1168, 1.1372,\n",
    "           0.7273, 1.3958, 0.8665, 1.5112, 1.161 , 1.0232, 1.0865, 1.02  ]\n",
    "```\n",
    "Предполагая, что диаметры подшипников распределены нормально, проверьте гипотезу о том, что дисперсия случайной величины равна `0.0625` при уровне значимости `alpha = 0.05`. Что для этого нужно знать:\n",
    "1. Альтернативная гипотеза двухсторонняя.\n",
    "2. Статистика для теста: `H = (n - 1) * sample_variance / variance`, где `n` - число элементов в выборке, `sample_variance` - несмещённая оценка дисперсии, `variance` - утверждаемая нулевой гипотезой дисперсия.\n",
    "3. Эта статистика в предположении верности нулевой гипотезы имеет распределение хи-квадрат с параметром `df = n - 1`. Её квантили можно найти с помощью функции `scipy.stats.chi2.ppf`.\n",
    "\n",
    "В качестве ответа запишите 1, если нулевая гипотеза верна, и 0 иначе."
   ]
  },
  {
   "cell_type": "code",
   "execution_count": 61,
   "id": "39059610",
   "metadata": {},
   "outputs": [],
   "source": [
    "samples = np.array([0.6603, 0.9466, 0.5968, 1.3792, 1.5481, 0.7515, 1.0681, 1.1134,\n",
    "           1.2088, 1.701 , 1.0282, 1.3579, 1.0191, 1.1784, 1.1168, 1.1372,\n",
    "           0.7273, 1.3958, 0.8665, 1.5112, 1.161 , 1.0232, 1.0865, 1.02 ])\n",
    "var = 0.0625\n",
    "n = samples.shape[0]\n",
    "sample_variance = samples.var(ddof=1)"
   ]
  },
  {
   "cell_type": "markdown",
   "id": "e5bafad9",
   "metadata": {},
   "source": [
    "Cтатистика $H$ для нашей выборки:"
   ]
  },
  {
   "cell_type": "code",
   "execution_count": 62,
   "id": "7e9c9f2e",
   "metadata": {},
   "outputs": [
    {
     "data": {
      "text/plain": [
       "28.720541753333343"
      ]
     },
     "execution_count": 62,
     "metadata": {},
     "output_type": "execute_result"
    }
   ],
   "source": [
    "H = (n - 1) * sample_variance / var\n",
    "H"
   ]
  },
  {
   "cell_type": "markdown",
   "id": "68d02323",
   "metadata": {},
   "source": [
    "Границы критической области $\\Omega_\\alpha$ согласно уровню значимости $\\alpha = 0.05$:"
   ]
  },
  {
   "cell_type": "code",
   "execution_count": 64,
   "id": "a0ba64a1",
   "metadata": {},
   "outputs": [
    {
     "data": {
      "text/plain": [
       "(11.688551922452438, 38.0756272503558)"
      ]
     },
     "execution_count": 64,
     "metadata": {},
     "output_type": "execute_result"
    }
   ],
   "source": [
    "alpha = 0.05\n",
    "\n",
    "t1 = stats.chi2.ppf(alpha / 2, df=n-1)\n",
    "t2 = stats.chi2.ppf(1 - alpha / 2, df=n-1)\n",
    "\n",
    "t1, t2"
   ]
  },
  {
   "cell_type": "markdown",
   "id": "98f16481",
   "metadata": {},
   "source": [
    "Т.к. t1 <= H <= t2 , то гипотеза верна!"
   ]
  },
  {
   "cell_type": "markdown",
   "id": "ffd798be",
   "metadata": {},
   "source": [
    "Ответ: 1. "
   ]
  }
 ],
 "metadata": {
  "kernelspec": {
   "display_name": "Python 3",
   "language": "python",
   "name": "python3"
  },
  "language_info": {
   "codemirror_mode": {
    "name": "ipython",
    "version": 3
   },
   "file_extension": ".py",
   "mimetype": "text/x-python",
   "name": "python",
   "nbconvert_exporter": "python",
   "pygments_lexer": "ipython3",
   "version": "3.8.8"
  }
 },
 "nbformat": 4,
 "nbformat_minor": 5
}
