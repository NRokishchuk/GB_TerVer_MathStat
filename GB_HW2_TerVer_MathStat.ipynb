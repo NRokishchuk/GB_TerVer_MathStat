{
 "cells": [
  {
   "cell_type": "markdown",
   "id": "82fb57b3",
   "metadata": {},
   "source": [
    "# Задачи 1 и 2\n",
    "Контрольная работа состоит из пяти вопросов. На каждый вопрос приведено четыре варианта ответа, один из которых правильный. Случайная величина X задаёт число правильных ответов при простом угадывании. Найдите математическое ожидание данной случайной величины. Найдите дисперсию случайной величины X. \\\n",
    "Подсказка: постройте закон распределения случайной величины X."
   ]
  },
  {
   "cell_type": "code",
   "execution_count": 7,
   "id": "49f3fefd",
   "metadata": {},
   "outputs": [
    {
     "name": "stdout",
     "output_type": "stream",
     "text": [
      "0.2373046875\n",
      "0.3955078125\n",
      "0.263671875\n",
      "0.087890625\n",
      "0.0146484375\n",
      "0.0009765625\n"
     ]
    }
   ],
   "source": [
    "import numpy as np\n",
    "import math \n",
    "from math import factorial\n",
    "n = 5\n",
    "p = 0.25\n",
    "\n",
    "def combinations(n,k):\n",
    "  return int(np.math.factorial(n)/(np.math.factorial(k)*np.math.factorial(n-k)))\n",
    "  \n",
    "def prob(n,k,p):\n",
    "  return combinations(n,k)*p**k*(1-p)**(n-k)\n",
    "\n",
    "for k in range(6):\n",
    "    a = prob(n, k, p)\n",
    "    print(a)"
   ]
  },
  {
   "cell_type": "code",
   "execution_count": 2,
   "id": "eb2d0559",
   "metadata": {},
   "outputs": [
    {
     "name": "stdout",
     "output_type": "stream",
     "text": [
      "Матожидание: 1.25, дисперсия: 0.9375\n"
     ]
    }
   ],
   "source": [
    "M = n*p\n",
    "D = n*p*(1-p)\n",
    "print(f'Матожидание: {M}, дисперсия: {D}')"
   ]
  },
  {
   "cell_type": "markdown",
   "id": "6355505a",
   "metadata": {},
   "source": [
    "# Задача 3\n",
    "Пользователь получает в среднем 10 писем со спамом на свой почтовый ящик за сутки. Найти число N, такое, что с вероятностью 0.95 пользователь получит не более N писем со спамом за текущий день."
   ]
  },
  {
   "cell_type": "code",
   "execution_count": 14,
   "id": "dd5d5870",
   "metadata": {},
   "outputs": [],
   "source": [
    "def f_Poisson(k, _lambda_):\n",
    "    return (_lambda_ ** k) * (np.exp(-_lambda_)) / np.math.factorial(k)"
   ]
  },
  {
   "cell_type": "code",
   "execution_count": 15,
   "id": "7aa95509",
   "metadata": {},
   "outputs": [
    {
     "data": {
      "text/plain": [
       "15"
      ]
     },
     "execution_count": 15,
     "metadata": {},
     "output_type": "execute_result"
    }
   ],
   "source": [
    "_lambda=10\n",
    "[(int(sum(f_Poisson(k = i, _lambda_= _lambda) for i in range(N)) * 100) / 100) == 0.95 for N in range(100)].index(1) - 1"
   ]
  },
  {
   "cell_type": "markdown",
   "id": "c3948878",
   "metadata": {},
   "source": [
    "# Задача 4\n",
    "Производятся выстрелы по мишени. Вероятность попадания в мишень при одном выстреле равна 0.01. Сколько выстрелов нужно сделать чтобы быть уверенным с вероятностью 0.9, что хотя бы 6 раз будет совершено попадание?\n",
    "\n",
    "Подсказка: 1) \"Вероятность попасть k раз при n выстрелах\" - на какое распределение это похоже? 2) А если нам нужна вероятность P(X >= k), а не P(X = k)? 3) Здесь предстоит немножко покодить."
   ]
  },
  {
   "cell_type": "code",
   "execution_count": 17,
   "id": "6123a52d",
   "metadata": {},
   "outputs": [
    {
     "name": "stdout",
     "output_type": "stream",
     "text": [
      "Чтобы попасть 6 раз надо выстрелить 926 раз и вероятность этого будет 0.9\n"
     ]
    }
   ],
   "source": [
    "# q  - искомая вероятность\n",
    "# p  - вероятность попадания \n",
    "# k - количество попаданий\n",
    "q = 0.9 \n",
    "p = 0.01 \n",
    "k = 6 \n",
    "n = k-1\n",
    "pn = 1\n",
    "#вычисления числа комбинаций\n",
    "def combinations(n,k): \n",
    "  return int(np.math.factorial(n)/(np.math.factorial(k)*np.math.factorial(n-k)))\n",
    "#Бернулли  \n",
    "def bernuli(n,k,p): \n",
    "  return combinations(n,k)*p**k*(1-p)**(n-k)\n",
    "while (1-pn) < q:\n",
    "  n += 1\n",
    "  pn = sum(bernuli(n,i,p) for i in range(k))\n",
    "print(f'Чтобы попасть {k} раз надо выстрелить {n} раз и вероятность этого будет {q}')"
   ]
  }
 ],
 "metadata": {
  "kernelspec": {
   "display_name": "Python 3",
   "language": "python",
   "name": "python3"
  },
  "language_info": {
   "codemirror_mode": {
    "name": "ipython",
    "version": 3
   },
   "file_extension": ".py",
   "mimetype": "text/x-python",
   "name": "python",
   "nbconvert_exporter": "python",
   "pygments_lexer": "ipython3",
   "version": "3.8.8"
  }
 },
 "nbformat": 4,
 "nbformat_minor": 5
}
