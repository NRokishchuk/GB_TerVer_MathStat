{
 "cells": [
  {
   "cell_type": "markdown",
   "id": "b81af296",
   "metadata": {},
   "source": [
    "__Задача 1__\n",
    "\n",
    "Используя данные о хоккеистах (скачать можно [здесь](https://habr.com/ru/post/301340/)), проверьте, является ли среди хоккеистов из Финляндии, Норвегии и Дании значимым отличие роста. В качестве ответа запишите 1, если является, и 0 иначе.\n",
    "\n",
    "_Подсказка_: не забудьте предобработать данные (например, дублируются ли данные о конкретных игроках?).\n"
   ]
  },
  {
   "cell_type": "code",
   "execution_count": 10,
   "id": "40624f79",
   "metadata": {},
   "outputs": [],
   "source": [
    "import numpy as np\n",
    "import pandas as pd\n",
    "from scipy import stats"
   ]
  },
  {
   "cell_type": "code",
   "execution_count": 4,
   "id": "4d125acc",
   "metadata": {},
   "outputs": [
    {
     "data": {
      "text/html": [
       "<div>\n",
       "<style scoped>\n",
       "    .dataframe tbody tr th:only-of-type {\n",
       "        vertical-align: middle;\n",
       "    }\n",
       "\n",
       "    .dataframe tbody tr th {\n",
       "        vertical-align: top;\n",
       "    }\n",
       "\n",
       "    .dataframe thead th {\n",
       "        text-align: right;\n",
       "    }\n",
       "</style>\n",
       "<table border=\"1\" class=\"dataframe\">\n",
       "  <thead>\n",
       "    <tr style=\"text-align: right;\">\n",
       "      <th></th>\n",
       "      <th>year</th>\n",
       "      <th>country</th>\n",
       "      <th>no</th>\n",
       "      <th>name</th>\n",
       "      <th>position</th>\n",
       "      <th>side</th>\n",
       "      <th>height</th>\n",
       "      <th>weight</th>\n",
       "      <th>birth</th>\n",
       "      <th>club</th>\n",
       "      <th>age</th>\n",
       "      <th>cohort</th>\n",
       "      <th>bmi</th>\n",
       "    </tr>\n",
       "  </thead>\n",
       "  <tbody>\n",
       "    <tr>\n",
       "      <th>0</th>\n",
       "      <td>2001</td>\n",
       "      <td>RUS</td>\n",
       "      <td>10</td>\n",
       "      <td>tverdovsky oleg</td>\n",
       "      <td>D</td>\n",
       "      <td>L</td>\n",
       "      <td>185</td>\n",
       "      <td>84.0</td>\n",
       "      <td>1976-05-18</td>\n",
       "      <td>anaheim mighty ducks</td>\n",
       "      <td>24.952772</td>\n",
       "      <td>1976</td>\n",
       "      <td>24.543462</td>\n",
       "    </tr>\n",
       "    <tr>\n",
       "      <th>1</th>\n",
       "      <td>2001</td>\n",
       "      <td>RUS</td>\n",
       "      <td>2</td>\n",
       "      <td>vichnevsky vitali</td>\n",
       "      <td>D</td>\n",
       "      <td>L</td>\n",
       "      <td>188</td>\n",
       "      <td>86.0</td>\n",
       "      <td>1980-03-18</td>\n",
       "      <td>anaheim mighty ducks</td>\n",
       "      <td>21.119781</td>\n",
       "      <td>1980</td>\n",
       "      <td>24.332277</td>\n",
       "    </tr>\n",
       "    <tr>\n",
       "      <th>2</th>\n",
       "      <td>2001</td>\n",
       "      <td>RUS</td>\n",
       "      <td>26</td>\n",
       "      <td>petrochinin evgeni</td>\n",
       "      <td>D</td>\n",
       "      <td>L</td>\n",
       "      <td>182</td>\n",
       "      <td>95.0</td>\n",
       "      <td>1976-02-07</td>\n",
       "      <td>severstal cherepovetal</td>\n",
       "      <td>25.229295</td>\n",
       "      <td>1976</td>\n",
       "      <td>28.680111</td>\n",
       "    </tr>\n",
       "    <tr>\n",
       "      <th>3</th>\n",
       "      <td>2001</td>\n",
       "      <td>RUS</td>\n",
       "      <td>28</td>\n",
       "      <td>zhdan alexander</td>\n",
       "      <td>D</td>\n",
       "      <td>R</td>\n",
       "      <td>178</td>\n",
       "      <td>85.0</td>\n",
       "      <td>1971-08-28</td>\n",
       "      <td>ak bars kazan</td>\n",
       "      <td>29.675565</td>\n",
       "      <td>1971</td>\n",
       "      <td>26.827421</td>\n",
       "    </tr>\n",
       "    <tr>\n",
       "      <th>4</th>\n",
       "      <td>2001</td>\n",
       "      <td>RUS</td>\n",
       "      <td>32</td>\n",
       "      <td>orekhovsky oleg</td>\n",
       "      <td>D</td>\n",
       "      <td>R</td>\n",
       "      <td>175</td>\n",
       "      <td>88.0</td>\n",
       "      <td>1977-11-03</td>\n",
       "      <td>dynamo moscow</td>\n",
       "      <td>23.490760</td>\n",
       "      <td>1977</td>\n",
       "      <td>28.734694</td>\n",
       "    </tr>\n",
       "  </tbody>\n",
       "</table>\n",
       "</div>"
      ],
      "text/plain": [
       "   year country  no                 name position side  height  weight  \\\n",
       "0  2001     RUS  10     tverdovsky oleg         D    L     185    84.0   \n",
       "1  2001     RUS   2   vichnevsky vitali         D    L     188    86.0   \n",
       "2  2001     RUS  26  petrochinin evgeni         D    L     182    95.0   \n",
       "3  2001     RUS  28     zhdan alexander         D    R     178    85.0   \n",
       "4  2001     RUS  32     orekhovsky oleg         D    R     175    88.0   \n",
       "\n",
       "        birth                     club        age  cohort        bmi  \n",
       "0  1976-05-18    anaheim mighty ducks   24.952772    1976  24.543462  \n",
       "1  1980-03-18    anaheim mighty ducks   21.119781    1980  24.332277  \n",
       "2  1976-02-07  severstal cherepovetal   25.229295    1976  28.680111  \n",
       "3  1971-08-28           ak bars kazan   29.675565    1971  26.827421  \n",
       "4  1977-11-03           dynamo moscow   23.490760    1977  28.734694  "
      ]
     },
     "execution_count": 4,
     "metadata": {},
     "output_type": "execute_result"
    }
   ],
   "source": [
    "df = pd.read_csv('hockey_players.csv')\n",
    "df.head()"
   ]
  },
  {
   "cell_type": "code",
   "execution_count": 5,
   "id": "9f1660fb",
   "metadata": {},
   "outputs": [
    {
     "data": {
      "text/plain": [
       "array(['RUS', 'AUT', 'BLR', 'CAN', 'CZE', 'FIN', 'GER', 'ITA', 'JPN',\n",
       "       'LAT', 'NOR', 'SUI', 'SVK', 'SWE', 'UKR', 'USA', 'POL', 'SLO',\n",
       "       'DEN', 'FRA', 'KAZ', 'HUN'], dtype=object)"
      ]
     },
     "execution_count": 5,
     "metadata": {},
     "output_type": "execute_result"
    }
   ],
   "source": [
    "df['country'].unique()"
   ]
  },
  {
   "cell_type": "markdown",
   "id": "6d636374",
   "metadata": {},
   "source": [
    "Избавимся от дубликатов"
   ]
  },
  {
   "cell_type": "code",
   "execution_count": 6,
   "id": "7b312af9",
   "metadata": {},
   "outputs": [],
   "source": [
    "df = df.drop_duplicates(subset=['name', 'birth'], keep='last')"
   ]
  },
  {
   "cell_type": "markdown",
   "id": "b54db67d",
   "metadata": {},
   "source": [
    "Выделим рассматриваемые признаки, разбив на выборки по значению категории страна: \"FIN\", \"NOR\", \"DEN\":"
   ]
  },
  {
   "cell_type": "code",
   "execution_count": 7,
   "id": "e11a342b",
   "metadata": {},
   "outputs": [],
   "source": [
    "heights = [df.loc[df['country'] == country, 'height'] for country in ['FIN', 'NOR', 'DEN']]\n",
    "bmis = [df.loc[df['country'] == country, 'bmi'] for country in ['FIN', 'NOR', 'DEN']]"
   ]
  },
  {
   "cell_type": "markdown",
   "id": "89a88eb6",
   "metadata": {},
   "source": [
    "Подсчитаем F-статистики для роста и BMI:"
   ]
  },
  {
   "cell_type": "code",
   "execution_count": 8,
   "id": "976ba1d3",
   "metadata": {},
   "outputs": [],
   "source": [
    "def f_stat(ys):\n",
    "    y = np.concatenate(ys)\n",
    "\n",
    "    ss_b = sum((yi.mean() - y.mean()) ** 2 * yi.size for yi in ys)\n",
    "    ss_w = sum(((yi - yi.mean()) ** 2).sum() for yi in ys)\n",
    "    \n",
    "    sigma_b = ss_b / (len(ys) - 1)\n",
    "    sigma_w = ss_w / (y.size - len(ys))\n",
    "    \n",
    "    return sigma_b / sigma_w"
   ]
  },
  {
   "cell_type": "code",
   "execution_count": 9,
   "id": "be40a3d1",
   "metadata": {},
   "outputs": [
    {
     "data": {
      "text/plain": [
       "(3.8026212813131024, 5.918577060155501)"
      ]
     },
     "execution_count": 9,
     "metadata": {},
     "output_type": "execute_result"
    }
   ],
   "source": [
    "f_stat_height = f_stat(heights)\n",
    "f_stat_bmi = f_stat(bmis)\n",
    "\n",
    "f_stat_height, f_stat_bmi"
   ]
  },
  {
   "cell_type": "markdown",
   "id": "cdaf3a67",
   "metadata": {},
   "source": [
    "Для построения критической области нам нужны квантили распределения Фишера с параметрами $k_1 = k - 1$, $k_2 = n - k$, где $k$ — число уровней, $n$ — общее число элементов во всех выборках.\n"
   ]
  },
  {
   "cell_type": "code",
   "execution_count": 25,
   "id": "8d67e452",
   "metadata": {},
   "outputs": [
    {
     "data": {
      "text/plain": [
       "(2, 430)"
      ]
     },
     "execution_count": 25,
     "metadata": {},
     "output_type": "execute_result"
    }
   ],
   "source": [
    "k = len(bmis)\n",
    "n = bmis[0].size + bmis[1].size + bmis[2].size\n",
    "k1 = k - 1\n",
    "k2 = n - k\n",
    "k1, k2"
   ]
  },
  {
   "cell_type": "code",
   "execution_count": 26,
   "id": "a64545c2",
   "metadata": {},
   "outputs": [
    {
     "data": {
      "text/plain": [
       "3.016700272452327"
      ]
     },
     "execution_count": 26,
     "metadata": {},
     "output_type": "execute_result"
    }
   ],
   "source": [
    "alpha = 0.05\n",
    "t = stats.f.ppf(1 - alpha, k1, k2)\n",
    "t"
   ]
  },
  {
   "cell_type": "markdown",
   "id": "850e0a9a",
   "metadata": {},
   "source": [
    "Критическая область: \\\n",
    "$\\Omega_\\alpha = \\left( 3.017, \\infty \\right)$\\\n",
    "И значения $F$ статистики для роста и BMI, равные $\\f_stat_height\\$, $\\f_stat_bmi$ и  соответственно, в нее попадают. Нулевая гипотеза отвергается, следовательно является значимым отличие в росте и BMI хоккеистов из Финляндии, Норвегии и Дании.\n"
   ]
  }
 ],
 "metadata": {
  "kernelspec": {
   "display_name": "Python 3",
   "language": "python",
   "name": "python3"
  },
  "language_info": {
   "codemirror_mode": {
    "name": "ipython",
    "version": 3
   },
   "file_extension": ".py",
   "mimetype": "text/x-python",
   "name": "python",
   "nbconvert_exporter": "python",
   "pygments_lexer": "ipython3",
   "version": "3.8.8"
  }
 },
 "nbformat": 4,
 "nbformat_minor": 5
}
